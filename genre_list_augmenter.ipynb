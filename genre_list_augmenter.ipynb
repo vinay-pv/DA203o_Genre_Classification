{
  "nbformat": 4,
  "nbformat_minor": 0,
  "metadata": {
    "colab": {
      "provenance": [],
      "include_colab_link": true
    },
    "kernelspec": {
      "name": "python3",
      "display_name": "Python 3"
    },
    "language_info": {
      "name": "python"
    }
  },
  "cells": [
    {
      "cell_type": "markdown",
      "metadata": {
        "id": "view-in-github",
        "colab_type": "text"
      },
      "source": [
        "<a href=\"https://colab.research.google.com/github/vinay-pv/DA203o_Genre_Classification/blob/main/genre_list_augmenter.ipynb\" target=\"_parent\"><img src=\"https://colab.research.google.com/assets/colab-badge.svg\" alt=\"Open In Colab\"/></a>"
      ]
    },
    {
      "cell_type": "code",
      "execution_count": null,
      "metadata": {
        "colab": {
          "base_uri": "https://localhost:8080/"
        },
        "id": "9we3c0vo6_PF",
        "outputId": "49ba4cf8-d365-411b-ecbd-ce115d58bfc1"
      },
      "outputs": [
        {
          "output_type": "stream",
          "name": "stdout",
          "text": [
            "Mounted at /content/drive\n"
          ]
        }
      ],
      "source": [
        "from google.colab import drive\n",
        "drive.mount('/content/drive')"
      ]
    },
    {
      "cell_type": "code",
      "source": [
        "import pandas as pd\n",
        "import numpy as np\n",
        "import json"
      ],
      "metadata": {
        "id": "HLd6I6zt8KSY"
      },
      "execution_count": null,
      "outputs": []
    },
    {
      "cell_type": "code",
      "source": [
        "# Download dataset from https://drive.google.com/file/d/1KwOfMGWOZcizm3amiv-cymD8r5ksIfyr/view?usp=share_link\n",
        "# and replace the path below in Colab environment (size ~900MB)\n",
        "df = pd.read_csv(\"/content/drive/MyDrive/AIML Project/features_corrected_cols.csv\")\n",
        "\n",
        "with open(\"/content/drive/MyDrive/AIML Project/tracks_genre.json\") as tmp:\n",
        "  genre_data = json.loads(tmp.read())"
      ],
      "metadata": {
        "id": "gCKySmuq8ZX-"
      },
      "execution_count": null,
      "outputs": []
    },
    {
      "cell_type": "code",
      "source": [
        "df[\"track_id\"] = df[\"track_id\"].apply(lambda x: str(int(x)))\n",
        "print(df.iloc[0])\n",
        "print()\n",
        "\n",
        "df[\"genre_list\"] = df.apply(lambda x: genre_data[x[\"track_id\"]], axis=1)\n",
        "print(df.iloc[0])\n",
        "print()\n",
        "\n",
        "print(df[\"genre_list\"][0:10])\n",
        "print()\n",
        "print(\"Shape:\", df.shape)"
      ],
      "metadata": {
        "colab": {
          "base_uri": "https://localhost:8080/"
        },
        "id": "ojf_WnfNEon3",
        "outputId": "1e065d9f-5df9-484b-8cd1-faf2a2dc90eb"
      },
      "execution_count": null,
      "outputs": [
        {
          "output_type": "stream",
          "name": "stdout",
          "text": [
            "track_id                          2\n",
            "chroma_cens_kurtosis_01    7.180653\n",
            "chroma_cens_kurtosis_02    5.230309\n",
            "chroma_cens_kurtosis_03    0.249321\n",
            "chroma_cens_kurtosis_04     1.34762\n",
            "                             ...   \n",
            "zcr_mean_01                0.085629\n",
            "zcr_median_01              0.071289\n",
            "zcr_min_01                      0.0\n",
            "zcr_skew_01                2.089872\n",
            "zcr_std_01                 0.061448\n",
            "Name: 0, Length: 519, dtype: object\n",
            "\n",
            "track_id                           2\n",
            "chroma_cens_kurtosis_01     7.180653\n",
            "chroma_cens_kurtosis_02     5.230309\n",
            "chroma_cens_kurtosis_03     0.249321\n",
            "chroma_cens_kurtosis_04      1.34762\n",
            "                             ...    \n",
            "zcr_median_01               0.071289\n",
            "zcr_min_01                       0.0\n",
            "zcr_skew_01                 2.089872\n",
            "zcr_std_01                  0.061448\n",
            "genre_list                 [Hip-Hop]\n",
            "Name: 0, Length: 520, dtype: object\n",
            "\n",
            "0                                [Hip-Hop]\n",
            "1                                [Hip-Hop]\n",
            "2                                [Hip-Hop]\n",
            "3                                    [Pop]\n",
            "4    [Experimental Pop, Singer-Songwriter]\n",
            "5    [Experimental Pop, Singer-Songwriter]\n",
            "6    [Experimental Pop, Singer-Songwriter]\n",
            "7    [Experimental Pop, Singer-Songwriter]\n",
            "8    [Experimental Pop, Singer-Songwriter]\n",
            "9                                [Hip-Hop]\n",
            "Name: genre_list, dtype: object\n",
            "\n",
            "Shape: (106574, 520)\n"
          ]
        }
      ]
    },
    {
      "cell_type": "code",
      "source": [
        "df = df[df[\"genre_list\"].map(lambda x: len(x)) > 0]\n",
        "print(\"Shape:\", df.shape)\n",
        "\n",
        "df.to_csv(\"/content/sample_data/features_augmented.csv\")"
      ],
      "metadata": {
        "colab": {
          "base_uri": "https://localhost:8080/"
        },
        "id": "-ZsPwP21N7wq",
        "outputId": "94d411e5-c8ee-4aa5-de5c-7447ef10e9d0"
      },
      "execution_count": null,
      "outputs": [
        {
          "output_type": "stream",
          "name": "stdout",
          "text": [
            "Shape: (104343, 520)\n"
          ]
        }
      ]
    }
  ]
}